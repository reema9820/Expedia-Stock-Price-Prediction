{
  "nbformat": 4,
  "nbformat_minor": 0,
  "metadata": {
    "colab": {
      "provenance": []
    },
    "kernelspec": {
      "name": "python3",
      "display_name": "Python 3"
    },
    "language_info": {
      "name": "python"
    },
    "accelerator": "GPU",
    "gpuClass": "standard"
  },
  "cells": [
    {
      "cell_type": "markdown",
      "source": [
        "Expedia Stock market forecasting using RNN"
      ],
      "metadata": {
        "id": "9gtRB_AZlmPg"
      }
    },
    {
      "cell_type": "markdown",
      "source": [
        "#1. Importing the required Libraries"
      ],
      "metadata": {
        "id": "XRnHI1t-g00z"
      }
    },
    {
      "cell_type": "code",
      "source": [
        "import numpy as np\n",
        "import pandas as pd\n",
        "import matplotlib.pyplot as plt\n",
        "\n",
        "from sklearn.preprocessing import MinMaxScaler\n",
        "from sklearn.metrics import mean_squared_error\n",
        "\n",
        "from tensorflow.keras.models import Sequential\n",
        "from tensorflow.keras.layers import Dense, LSTM, Dropout, GRU, Bidirectional\n",
        "from tensorflow.keras.optimizers import SGD\n",
        "from tensorflow.random import set_seed"
      ],
      "metadata": {
        "id": "LXrvpxj9-Ujy"
      },
      "execution_count": 1,
      "outputs": []
    },
    {
      "cell_type": "markdown",
      "source": [
        "‘yfinance’ is now a very popular library which is very python friendly and is used to download stock prices and also crypto prices "
      ],
      "metadata": {
        "id": "TMlvrFDbiDAX"
      }
    },
    {
      "cell_type": "code",
      "source": [
        "pip install yfinance"
      ],
      "metadata": {
        "colab": {
          "base_uri": "https://localhost:8080/"
        },
        "id": "3x8AO2ud-WSL",
        "outputId": "424f9ade-f423-4ca3-d74b-d075376f118d"
      },
      "execution_count": 2,
      "outputs": [
        {
          "output_type": "stream",
          "name": "stdout",
          "text": [
            "Looking in indexes: https://pypi.org/simple, https://us-python.pkg.dev/colab-wheels/public/simple/\n",
            "Requirement already satisfied: yfinance in /usr/local/lib/python3.8/dist-packages (0.2.12)\n",
            "Requirement already satisfied: multitasking>=0.0.7 in /usr/local/lib/python3.8/dist-packages (from yfinance) (0.0.11)\n",
            "Requirement already satisfied: beautifulsoup4>=4.11.1 in /usr/local/lib/python3.8/dist-packages (from yfinance) (4.11.2)\n",
            "Requirement already satisfied: numpy>=1.16.5 in /usr/local/lib/python3.8/dist-packages (from yfinance) (1.21.6)\n",
            "Requirement already satisfied: appdirs>=1.4.4 in /usr/local/lib/python3.8/dist-packages (from yfinance) (1.4.4)\n",
            "Requirement already satisfied: pytz>=2022.5 in /usr/local/lib/python3.8/dist-packages (from yfinance) (2022.7.1)\n",
            "Requirement already satisfied: html5lib>=1.1 in /usr/local/lib/python3.8/dist-packages (from yfinance) (1.1)\n",
            "Requirement already satisfied: requests>=2.26 in /usr/local/lib/python3.8/dist-packages (from yfinance) (2.28.2)\n",
            "Requirement already satisfied: pandas>=1.3.0 in /usr/local/lib/python3.8/dist-packages (from yfinance) (1.3.5)\n",
            "Requirement already satisfied: lxml>=4.9.1 in /usr/local/lib/python3.8/dist-packages (from yfinance) (4.9.2)\n",
            "Requirement already satisfied: frozendict>=2.3.4 in /usr/local/lib/python3.8/dist-packages (from yfinance) (2.3.5)\n",
            "Requirement already satisfied: cryptography>=3.3.2 in /usr/local/lib/python3.8/dist-packages (from yfinance) (39.0.1)\n",
            "Requirement already satisfied: soupsieve>1.2 in /usr/local/lib/python3.8/dist-packages (from beautifulsoup4>=4.11.1->yfinance) (2.4)\n",
            "Requirement already satisfied: cffi>=1.12 in /usr/local/lib/python3.8/dist-packages (from cryptography>=3.3.2->yfinance) (1.15.1)\n",
            "Requirement already satisfied: six>=1.9 in /usr/local/lib/python3.8/dist-packages (from html5lib>=1.1->yfinance) (1.15.0)\n",
            "Requirement already satisfied: webencodings in /usr/local/lib/python3.8/dist-packages (from html5lib>=1.1->yfinance) (0.5.1)\n",
            "Requirement already satisfied: python-dateutil>=2.7.3 in /usr/local/lib/python3.8/dist-packages (from pandas>=1.3.0->yfinance) (2.8.2)\n",
            "Requirement already satisfied: urllib3<1.27,>=1.21.1 in /usr/local/lib/python3.8/dist-packages (from requests>=2.26->yfinance) (1.24.3)\n",
            "Requirement already satisfied: certifi>=2017.4.17 in /usr/local/lib/python3.8/dist-packages (from requests>=2.26->yfinance) (2022.12.7)\n",
            "Requirement already satisfied: charset-normalizer<4,>=2 in /usr/local/lib/python3.8/dist-packages (from requests>=2.26->yfinance) (3.0.1)\n",
            "Requirement already satisfied: idna<4,>=2.5 in /usr/local/lib/python3.8/dist-packages (from requests>=2.26->yfinance) (2.10)\n",
            "Requirement already satisfied: pycparser in /usr/local/lib/python3.8/dist-packages (from cffi>=1.12->cryptography>=3.3.2->yfinance) (2.21)\n"
          ]
        }
      ]
    },
    {
      "cell_type": "markdown",
      "source": [
        "#2. Load the Training Dataset."
      ],
      "metadata": {
        "id": "jGcPPOhOkmMT"
      }
    },
    {
      "cell_type": "markdown",
      "source": [
        "Expedia training data has information from 21st July 2005 to 17 January 2023.\n",
        "\n",
        "There are six columns:\n",
        "\n",
        "The Open column tells the price at which a stock started trading when the market opened on a particular day. \n",
        "\n",
        "The Close column refers to the price of an individual stock when the stock exchange closed the market for the day.\n",
        "\n",
        "The High column depicts the highest price at which a stock traded during a period. \n",
        "\n",
        "The Low column tells the lowest price of the period. \n",
        "\n",
        "Volume is the total amount of trading activity during a period of time.\n",
        "\n",
        "Adjusted closing price refers to the price of the stock after paying off the dividends.\n"
      ],
      "metadata": {
        "id": "g2CEkw2jk4p4"
      }
    },
    {
      "cell_type": "code",
      "source": [
        "import yfinance as yf\n",
        "expedia = yf.download(\"EXPD\", start=\"2005-07-21\", end=\"2023-01-17\")\n",
        "expedia.index=expedia.index.tz_localize(None)\n",
        "print(expedia.info())"
      ],
      "metadata": {
        "colab": {
          "base_uri": "https://localhost:8080/"
        },
        "id": "DKe-LI35-bQF",
        "outputId": "e9bf1ab4-b8f5-4ffc-9f45-1b6aad5db20b"
      },
      "execution_count": 3,
      "outputs": [
        {
          "output_type": "stream",
          "name": "stdout",
          "text": [
            "\r[*********************100%***********************]  1 of 1 completed\n",
            "<class 'pandas.core.frame.DataFrame'>\n",
            "DatetimeIndex: 4402 entries, 2005-07-21 to 2023-01-13\n",
            "Data columns (total 6 columns):\n",
            " #   Column     Non-Null Count  Dtype  \n",
            "---  ------     --------------  -----  \n",
            " 0   Open       4402 non-null   float64\n",
            " 1   High       4402 non-null   float64\n",
            " 2   Low        4402 non-null   float64\n",
            " 3   Close      4402 non-null   float64\n",
            " 4   Adj Close  4402 non-null   float64\n",
            " 5   Volume     4402 non-null   int64  \n",
            "dtypes: float64(5), int64(1)\n",
            "memory usage: 240.7 KB\n",
            "None\n"
          ]
        }
      ]
    },
    {
      "cell_type": "code",
      "source": [
        "expedia.shape"
      ],
      "metadata": {
        "colab": {
          "base_uri": "https://localhost:8080/"
        },
        "id": "7fwU-wpgBTB0",
        "outputId": "defceb31-b64a-4cea-9286-c3dd976f6522"
      },
      "execution_count": 4,
      "outputs": [
        {
          "output_type": "execute_result",
          "data": {
            "text/plain": [
              "(4402, 6)"
            ]
          },
          "metadata": {},
          "execution_count": 4
        }
      ]
    },
    {
      "cell_type": "code",
      "source": [
        "\n",
        "expedia.index.min(), expedia.index.max()"
      ],
      "metadata": {
        "colab": {
          "base_uri": "https://localhost:8080/"
        },
        "id": "dZ0skqRWJTLQ",
        "outputId": "927189a8-83e5-4f27-9dd3-8ce88e4c2c97"
      },
      "execution_count": 5,
      "outputs": [
        {
          "output_type": "execute_result",
          "data": {
            "text/plain": [
              "(Timestamp('2005-07-21 00:00:00'), Timestamp('2023-01-13 00:00:00'))"
            ]
          },
          "metadata": {},
          "execution_count": 5
        }
      ]
    },
    {
      "cell_type": "code",
      "source": [
        "expedia.head()"
      ],
      "metadata": {
        "colab": {
          "base_uri": "https://localhost:8080/",
          "height": 237
        },
        "id": "Tm6bIAIxakiB",
        "outputId": "7ddd0b3f-6cee-4392-ec3d-45c6ccf87f89"
      },
      "execution_count": 6,
      "outputs": [
        {
          "output_type": "execute_result",
          "data": {
            "text/plain": [
              "                 Open       High        Low      Close  Adj Close   Volume\n",
              "Date                                                                      \n",
              "2005-07-21  27.379999  27.665001  27.094999  27.575001  22.536278  2443800\n",
              "2005-07-22  27.465000  27.775000  27.445000  27.665001  22.609831  1155200\n",
              "2005-07-25  27.639999  27.975000  27.375000  27.594999  22.552620  1812800\n",
              "2005-07-26  27.600000  27.674999  27.275000  27.455000  22.438202  1523000\n",
              "2005-07-27  27.575001  27.850000  27.315001  27.540001  22.507671  1402800"
            ],
            "text/html": [
              "\n",
              "  <div id=\"df-d33ed5df-5225-4dd8-ac05-3263d7d3e7bf\">\n",
              "    <div class=\"colab-df-container\">\n",
              "      <div>\n",
              "<style scoped>\n",
              "    .dataframe tbody tr th:only-of-type {\n",
              "        vertical-align: middle;\n",
              "    }\n",
              "\n",
              "    .dataframe tbody tr th {\n",
              "        vertical-align: top;\n",
              "    }\n",
              "\n",
              "    .dataframe thead th {\n",
              "        text-align: right;\n",
              "    }\n",
              "</style>\n",
              "<table border=\"1\" class=\"dataframe\">\n",
              "  <thead>\n",
              "    <tr style=\"text-align: right;\">\n",
              "      <th></th>\n",
              "      <th>Open</th>\n",
              "      <th>High</th>\n",
              "      <th>Low</th>\n",
              "      <th>Close</th>\n",
              "      <th>Adj Close</th>\n",
              "      <th>Volume</th>\n",
              "    </tr>\n",
              "    <tr>\n",
              "      <th>Date</th>\n",
              "      <th></th>\n",
              "      <th></th>\n",
              "      <th></th>\n",
              "      <th></th>\n",
              "      <th></th>\n",
              "      <th></th>\n",
              "    </tr>\n",
              "  </thead>\n",
              "  <tbody>\n",
              "    <tr>\n",
              "      <th>2005-07-21</th>\n",
              "      <td>27.379999</td>\n",
              "      <td>27.665001</td>\n",
              "      <td>27.094999</td>\n",
              "      <td>27.575001</td>\n",
              "      <td>22.536278</td>\n",
              "      <td>2443800</td>\n",
              "    </tr>\n",
              "    <tr>\n",
              "      <th>2005-07-22</th>\n",
              "      <td>27.465000</td>\n",
              "      <td>27.775000</td>\n",
              "      <td>27.445000</td>\n",
              "      <td>27.665001</td>\n",
              "      <td>22.609831</td>\n",
              "      <td>1155200</td>\n",
              "    </tr>\n",
              "    <tr>\n",
              "      <th>2005-07-25</th>\n",
              "      <td>27.639999</td>\n",
              "      <td>27.975000</td>\n",
              "      <td>27.375000</td>\n",
              "      <td>27.594999</td>\n",
              "      <td>22.552620</td>\n",
              "      <td>1812800</td>\n",
              "    </tr>\n",
              "    <tr>\n",
              "      <th>2005-07-26</th>\n",
              "      <td>27.600000</td>\n",
              "      <td>27.674999</td>\n",
              "      <td>27.275000</td>\n",
              "      <td>27.455000</td>\n",
              "      <td>22.438202</td>\n",
              "      <td>1523000</td>\n",
              "    </tr>\n",
              "    <tr>\n",
              "      <th>2005-07-27</th>\n",
              "      <td>27.575001</td>\n",
              "      <td>27.850000</td>\n",
              "      <td>27.315001</td>\n",
              "      <td>27.540001</td>\n",
              "      <td>22.507671</td>\n",
              "      <td>1402800</td>\n",
              "    </tr>\n",
              "  </tbody>\n",
              "</table>\n",
              "</div>\n",
              "      <button class=\"colab-df-convert\" onclick=\"convertToInteractive('df-d33ed5df-5225-4dd8-ac05-3263d7d3e7bf')\"\n",
              "              title=\"Convert this dataframe to an interactive table.\"\n",
              "              style=\"display:none;\">\n",
              "        \n",
              "  <svg xmlns=\"http://www.w3.org/2000/svg\" height=\"24px\"viewBox=\"0 0 24 24\"\n",
              "       width=\"24px\">\n",
              "    <path d=\"M0 0h24v24H0V0z\" fill=\"none\"/>\n",
              "    <path d=\"M18.56 5.44l.94 2.06.94-2.06 2.06-.94-2.06-.94-.94-2.06-.94 2.06-2.06.94zm-11 1L8.5 8.5l.94-2.06 2.06-.94-2.06-.94L8.5 2.5l-.94 2.06-2.06.94zm10 10l.94 2.06.94-2.06 2.06-.94-2.06-.94-.94-2.06-.94 2.06-2.06.94z\"/><path d=\"M17.41 7.96l-1.37-1.37c-.4-.4-.92-.59-1.43-.59-.52 0-1.04.2-1.43.59L10.3 9.45l-7.72 7.72c-.78.78-.78 2.05 0 2.83L4 21.41c.39.39.9.59 1.41.59.51 0 1.02-.2 1.41-.59l7.78-7.78 2.81-2.81c.8-.78.8-2.07 0-2.86zM5.41 20L4 18.59l7.72-7.72 1.47 1.35L5.41 20z\"/>\n",
              "  </svg>\n",
              "      </button>\n",
              "      \n",
              "  <style>\n",
              "    .colab-df-container {\n",
              "      display:flex;\n",
              "      flex-wrap:wrap;\n",
              "      gap: 12px;\n",
              "    }\n",
              "\n",
              "    .colab-df-convert {\n",
              "      background-color: #E8F0FE;\n",
              "      border: none;\n",
              "      border-radius: 50%;\n",
              "      cursor: pointer;\n",
              "      display: none;\n",
              "      fill: #1967D2;\n",
              "      height: 32px;\n",
              "      padding: 0 0 0 0;\n",
              "      width: 32px;\n",
              "    }\n",
              "\n",
              "    .colab-df-convert:hover {\n",
              "      background-color: #E2EBFA;\n",
              "      box-shadow: 0px 1px 2px rgba(60, 64, 67, 0.3), 0px 1px 3px 1px rgba(60, 64, 67, 0.15);\n",
              "      fill: #174EA6;\n",
              "    }\n",
              "\n",
              "    [theme=dark] .colab-df-convert {\n",
              "      background-color: #3B4455;\n",
              "      fill: #D2E3FC;\n",
              "    }\n",
              "\n",
              "    [theme=dark] .colab-df-convert:hover {\n",
              "      background-color: #434B5C;\n",
              "      box-shadow: 0px 1px 3px 1px rgba(0, 0, 0, 0.15);\n",
              "      filter: drop-shadow(0px 1px 2px rgba(0, 0, 0, 0.3));\n",
              "      fill: #FFFFFF;\n",
              "    }\n",
              "  </style>\n",
              "\n",
              "      <script>\n",
              "        const buttonEl =\n",
              "          document.querySelector('#df-d33ed5df-5225-4dd8-ac05-3263d7d3e7bf button.colab-df-convert');\n",
              "        buttonEl.style.display =\n",
              "          google.colab.kernel.accessAllowed ? 'block' : 'none';\n",
              "\n",
              "        async function convertToInteractive(key) {\n",
              "          const element = document.querySelector('#df-d33ed5df-5225-4dd8-ac05-3263d7d3e7bf');\n",
              "          const dataTable =\n",
              "            await google.colab.kernel.invokeFunction('convertToInteractive',\n",
              "                                                     [key], {});\n",
              "          if (!dataTable) return;\n",
              "\n",
              "          const docLinkHtml = 'Like what you see? Visit the ' +\n",
              "            '<a target=\"_blank\" href=https://colab.research.google.com/notebooks/data_table.ipynb>data table notebook</a>'\n",
              "            + ' to learn more about interactive tables.';\n",
              "          element.innerHTML = '';\n",
              "          dataTable['output_type'] = 'display_data';\n",
              "          await google.colab.output.renderOutput(dataTable, element);\n",
              "          const docLink = document.createElement('div');\n",
              "          docLink.innerHTML = docLinkHtml;\n",
              "          element.appendChild(docLink);\n",
              "        }\n",
              "      </script>\n",
              "    </div>\n",
              "  </div>\n",
              "  "
            ]
          },
          "metadata": {},
          "execution_count": 6
        }
      ]
    },
    {
      "cell_type": "markdown",
      "source": [
        "I chose to analyze high price for the period 2005-2023"
      ],
      "metadata": {
        "id": "cwC-Kc9vPuE3"
      }
    },
    {
      "cell_type": "code",
      "source": [
        "#plot high price\n",
        "plt.figure(figsize=(10,6))\n",
        "plt.grid(True)\n",
        "plt.xlabel('Date')\n",
        "plt.ylabel('High Prices')\n",
        "plt.plot(expedia['High'])\n",
        "plt.title('Expedia high price')\n",
        "plt.show()"
      ],
      "metadata": {
        "colab": {
          "base_uri": "https://localhost:8080/",
          "height": 404
        },
        "id": "tellR5c5mTgM",
        "outputId": "56216df2-9317-439e-e016-21e4ada951e2"
      },
      "execution_count": 7,
      "outputs": [
        {
          "output_type": "display_data",
          "data": {
            "text/plain": [
              "<Figure size 720x432 with 1 Axes>"
            ],
            "image/png": "[encoded data removed]"
          },
          "metadata": {
            "needs_background": "light"
          }
        }
      ]
    },
    {
      "cell_type": "markdown",
      "source": [
        "#3. Use the High Stock Price Column to Train Your Model."
      ],
      "metadata": {
        "id": "A4fy94rjlg7R"
      }
    },
    {
      "cell_type": "code",
      "source": [
        "tstart = 2005\n",
        "tend = 2019\n",
        "\n",
        "print(f'{tstart}')"
      ],
      "metadata": {
        "colab": {
          "base_uri": "https://localhost:8080/"
        },
        "id": "_6Tnw533JZvm",
        "outputId": "39e23df6-a822-452c-cef4-186a0b18d0aa"
      },
      "execution_count": 8,
      "outputs": [
        {
          "output_type": "stream",
          "name": "stdout",
          "text": [
            "2005\n"
          ]
        }
      ]
    },
    {
      "cell_type": "markdown",
      "source": [
        "Train Set is : Pre Covid (2005-2020)\n",
        "\n",
        "Test Set is : Post Covid(2020-2023)"
      ],
      "metadata": {
        "id": "5LhW6VN2P3uK"
      }
    },
    {
      "cell_type": "code",
      "source": [
        "\n",
        "def train_test_plot(dataset, tstart, tend):\n",
        "    dataset.loc[f\"{tstart}\":f\"{tend}\", \"High\"].plot(figsize=(16, 4), legend=True)\n",
        "    dataset.loc[f\"{tend+1}\":, \"High\"].plot(figsize=(16, 4), legend=True)\n",
        "    plt.legend([f\"Train (Before {tend+1})\", f\"Test ({tend+1} and beyond)\"])\n",
        "    plt.title(\"Expedia stock price\")\n",
        "    plt.show()\n",
        "\n",
        "train_test_plot(expedia,tstart,tend)"
      ],
      "metadata": {
        "colab": {
          "base_uri": "https://localhost:8080/",
          "height": 285
        },
        "id": "zxEZzvXqKaQG",
        "outputId": "81333d8b-579c-4dbf-8631-85f1ff0121fe"
      },
      "execution_count": 9,
      "outputs": [
        {
          "output_type": "display_data",
          "data": {
            "text/plain": [
              "<Figure size 1152x288 with 1 Axes>"
            ],
            "image/png": "[encoded data removed]"
          },
          "metadata": {
            "needs_background": "light"
          }
        }
      ]
    },
    {
      "cell_type": "code",
      "source": [
        "## Train and Test data split function\n",
        "def train_test_split(dataset, tstart, tend):\n",
        "    train = dataset.loc[f\"{tstart}\":f\"{tend}\", \"High\"].values\n",
        "    test = dataset.loc[f\"{tend+1}\":, \"High\"].values\n",
        "    return train, test\n",
        "\n",
        "training_set, test_set = train_test_split(expedia, tstart, tend)"
      ],
      "metadata": {
        "id": "VciBRFdfK_S_"
      },
      "execution_count": 10,
      "outputs": []
    },
    {
      "cell_type": "markdown",
      "source": [
        "#4. Normalizing the Dataset."
      ],
      "metadata": {
        "id": "ZzdBzaj0lukA"
      }
    },
    {
      "cell_type": "code",
      "source": [
        "sc = MinMaxScaler(feature_range=(0, 1))\n",
        "training_set = training_set.reshape(-1, 1)\n",
        "training_set_scaled = sc.fit_transform(training_set)"
      ],
      "metadata": {
        "id": "ordwBSlwLRw7"
      },
      "execution_count": 11,
      "outputs": []
    },
    {
      "cell_type": "markdown",
      "source": [
        "#5. Creating X_train and y_train Data Structures."
      ],
      "metadata": {
        "id": "8Nzd8M-LmFtk"
      }
    },
    {
      "cell_type": "code",
      "source": [
        "def split_sequence(sequence, n_steps):\n",
        "    X, y = list(), list()\n",
        "    for i in range(len(sequence)):\n",
        "        end_ix = i + n_steps\n",
        "        if end_ix > len(sequence) - 1:\n",
        "            break\n",
        "        seq_x, seq_y = sequence[i:end_ix], sequence[end_ix]\n",
        "        X.append(seq_x)\n",
        "        y.append(seq_y)\n",
        "    return np.array(X), np.array(y)\n",
        "\n",
        "\n",
        "n_steps = 30\n",
        "features = 1\n",
        "# split into samples\n",
        "X_train, y_train = split_sequence(training_set_scaled, n_steps)"
      ],
      "metadata": {
        "id": "k2vlWl6hLfex"
      },
      "execution_count": 12,
      "outputs": []
    },
    {
      "cell_type": "markdown",
      "source": [
        "We use the split_sequence function to create input/output pairs from the input sequence, where each input consists of the previous 30 stock prices and each output is the next stock price."
      ],
      "metadata": {
        "id": "GFjSQQUCAbUO"
      }
    },
    {
      "cell_type": "code",
      "source": [
        "X_train.shape"
      ],
      "metadata": {
        "colab": {
          "base_uri": "https://localhost:8080/"
        },
        "id": "PmMZrb4LLpzI",
        "outputId": "3cbf4096-26c9-4fc1-c7ad-271baff61f41"
      },
      "execution_count": 13,
      "outputs": [
        {
          "output_type": "execute_result",
          "data": {
            "text/plain": [
              "(3607, 30, 1)"
            ]
          },
          "metadata": {},
          "execution_count": 13
        }
      ]
    },
    {
      "cell_type": "code",
      "source": [
        "y_train.shape"
      ],
      "metadata": {
        "colab": {
          "base_uri": "https://localhost:8080/"
        },
        "id": "wXgibj0U7v9Z",
        "outputId": "838e8ae3-f6c0-4a65-a57a-a82f3a1a6287"
      },
      "execution_count": 14,
      "outputs": [
        {
          "output_type": "execute_result",
          "data": {
            "text/plain": [
              "(3607, 1)"
            ]
          },
          "metadata": {},
          "execution_count": 14
        }
      ]
    },
    {
      "cell_type": "code",
      "source": [
        "## Printing the first record after sequencing\n",
        "print(X_train[0])\n",
        "\n",
        "## Number of input values in the each record\n",
        "print(\"\\n\\nNumber of values in each record (features) :\", len(X_train[0]))"
      ],
      "metadata": {
        "colab": {
          "base_uri": "https://localhost:8080/"
        },
        "id": "mfQvH8D6LqS1",
        "outputId": "99be096a-0814-4c70-fed4-c4957e2cba91"
      },
      "execution_count": 15,
      "outputs": [
        {
          "output_type": "stream",
          "name": "stdout",
          "text": [
            "[[0.04695296]\n",
            " [0.04891302]\n",
            " [0.05247683]\n",
            " [0.04713112]\n",
            " [0.05024946]\n",
            " [0.04739843]\n",
            " [0.04828936]\n",
            " [0.04668565]\n",
            " [0.03804348]\n",
            " [0.03857803]\n",
            " [0.03510334]\n",
            " [0.03545972]\n",
            " [0.03822164]\n",
            " [0.04526014]\n",
            " [0.0478439 ]\n",
            " [0.04971488]\n",
            " [0.04855664]\n",
            " [0.04526014]\n",
            " [0.04401282]\n",
            " [0.03937988]\n",
            " [0.04116179]\n",
            " [0.04125087]\n",
            " [0.04534925]\n",
            " [0.04624019]\n",
            " [0.04543833]\n",
            " [0.04552741]\n",
            " [0.04321096]\n",
            " [0.04365643]\n",
            " [0.0441019 ]\n",
            " [0.04855664]]\n",
            "\n",
            "\n",
            "Number of values in each record (features) : 30\n"
          ]
        }
      ]
    },
    {
      "cell_type": "code",
      "source": [
        "X_train.shape"
      ],
      "metadata": {
        "colab": {
          "base_uri": "https://localhost:8080/"
        },
        "id": "0feesp2fLtzG",
        "outputId": "df3929a5-3398-4fcf-8d01-34134bd64739"
      },
      "execution_count": 16,
      "outputs": [
        {
          "output_type": "execute_result",
          "data": {
            "text/plain": [
              "(3607, 30, 1)"
            ]
          },
          "metadata": {},
          "execution_count": 16
        }
      ]
    },
    {
      "cell_type": "markdown",
      "source": [
        "#6. Reshape the Data"
      ],
      "metadata": {
        "id": "IxXtkuGLmM0a"
      }
    },
    {
      "cell_type": "markdown",
      "source": [
        "Reshaping it to the format which is required by rnn models"
      ],
      "metadata": {
        "id": "6ZgxtjWpQYgR"
      }
    },
    {
      "cell_type": "code",
      "source": [
        "# Reshaping X_train for model\n",
        "X_train = X_train.reshape(X_train.shape[0],X_train.shape[1],features)"
      ],
      "metadata": {
        "id": "DmMOMO0zLy6e"
      },
      "execution_count": 17,
      "outputs": []
    },
    {
      "cell_type": "code",
      "source": [
        "X_train.shape #sample,time_steps,features"
      ],
      "metadata": {
        "colab": {
          "base_uri": "https://localhost:8080/"
        },
        "id": "0c74xr4sL1Hc",
        "outputId": "e835052c-1805-4158-f268-806d3d418c2e"
      },
      "execution_count": 18,
      "outputs": [
        {
          "output_type": "execute_result",
          "data": {
            "text/plain": [
              "(3607, 30, 1)"
            ]
          },
          "metadata": {},
          "execution_count": 18
        }
      ]
    },
    {
      "cell_type": "code",
      "source": [
        "X_train[0]"
      ],
      "metadata": {
        "colab": {
          "base_uri": "https://localhost:8080/"
        },
        "id": "-0hfip4kL24p",
        "outputId": "50c2b470-1b41-4041-eab7-cc39d082de4c"
      },
      "execution_count": 19,
      "outputs": [
        {
          "output_type": "execute_result",
          "data": {
            "text/plain": [
              "array([[0.04695296],\n",
              "       [0.04891302],\n",
              "       [0.05247683],\n",
              "       [0.04713112],\n",
              "       [0.05024946],\n",
              "       [0.04739843],\n",
              "       [0.04828936],\n",
              "       [0.04668565],\n",
              "       [0.03804348],\n",
              "       [0.03857803],\n",
              "       [0.03510334],\n",
              "       [0.03545972],\n",
              "       [0.03822164],\n",
              "       [0.04526014],\n",
              "       [0.0478439 ],\n",
              "       [0.04971488],\n",
              "       [0.04855664],\n",
              "       [0.04526014],\n",
              "       [0.04401282],\n",
              "       [0.03937988],\n",
              "       [0.04116179],\n",
              "       [0.04125087],\n",
              "       [0.04534925],\n",
              "       [0.04624019],\n",
              "       [0.04543833],\n",
              "       [0.04552741],\n",
              "       [0.04321096],\n",
              "       [0.04365643],\n",
              "       [0.0441019 ],\n",
              "       [0.04855664]])"
            ]
          },
          "metadata": {},
          "execution_count": 19
        }
      ]
    },
    {
      "cell_type": "markdown",
      "source": [
        "#7. Model Application"
      ],
      "metadata": {
        "id": "7UXUTsdUpbHd"
      }
    },
    {
      "cell_type": "markdown",
      "source": [
        "##1. LSTM Model"
      ],
      "metadata": {
        "id": "6Dk31Kw5-eFN"
      }
    },
    {
      "cell_type": "code",
      "source": [
        "model_lstm = Sequential()\n",
        "\n",
        "model_lstm.add(LSTM(units=50, return_sequences=True, input_shape=(X_train.shape[1], 1), activation='tanh'))\n",
        "model_lstm.add(LSTM(units=50, activation='tanh'))\n",
        "model_lstm.add(Dropout(0.2))\n",
        "model_lstm.add(Dense(units=1, activation='linear'))\n",
        "\n",
        "# Compiling the model\n",
        "model_lstm.compile(optimizer=\"adam\", loss=\"mse\", metrics=['mse'])\n"
      ],
      "metadata": {
        "id": "cI0ovyXoL4oU"
      },
      "execution_count": 20,
      "outputs": []
    },
    {
      "cell_type": "code",
      "source": [
        "## Fitting the model\n",
        "model_lstm.fit(X_train, y_train, epochs=25, batch_size=32)"
      ],
      "metadata": {
        "colab": {
          "base_uri": "https://localhost:8080/"
        },
        "id": "gs7-eoD0MD-G",
        "outputId": "01dc5667-ca6a-4210-f720-7c91189ac4c0"
      },
      "execution_count": 21,
      "outputs": [
        {
          "output_type": "stream",
          "name": "stdout",
          "text": [
            "Epoch 1/25\n",
            "113/113 [==============================] - 7s 7ms/step - loss: 0.0091 - mse: 0.0091\n",
            "Epoch 2/25\n",
            "113/113 [==============================] - 1s 7ms/step - loss: 0.0024 - mse: 0.0024\n",
            "Epoch 3/25\n",
            "113/113 [==============================] - 1s 7ms/step - loss: 0.0021 - mse: 0.0021\n",
            "Epoch 4/25\n",
            "113/113 [==============================] - 1s 8ms/step - loss: 0.0020 - mse: 0.0020\n",
            "Epoch 5/25\n",
            "113/113 [==============================] - 1s 7ms/step - loss: 0.0020 - mse: 0.0020\n",
            "Epoch 6/25\n",
            "113/113 [==============================] - 1s 7ms/step - loss: 0.0018 - mse: 0.0018\n",
            "Epoch 7/25\n",
            "113/113 [==============================] - 1s 7ms/step - loss: 0.0017 - mse: 0.0017\n",
            "Epoch 8/25\n",
            "113/113 [==============================] - 1s 7ms/step - loss: 0.0016 - mse: 0.0016\n",
            "Epoch 9/25\n",
            "113/113 [==============================] - 1s 9ms/step - loss: 0.0017 - mse: 0.0017\n",
            "Epoch 10/25\n",
            "113/113 [==============================] - 1s 13ms/step - loss: 0.0014 - mse: 0.0014\n",
            "Epoch 11/25\n",
            "113/113 [==============================] - 1s 12ms/step - loss: 0.0014 - mse: 0.0014\n",
            "Epoch 12/25\n",
            "113/113 [==============================] - 1s 10ms/step - loss: 0.0014 - mse: 0.0014\n",
            "Epoch 13/25\n",
            "113/113 [==============================] - 1s 10ms/step - loss: 0.0013 - mse: 0.0013\n",
            "Epoch 14/25\n",
            "113/113 [==============================] - 1s 10ms/step - loss: 0.0013 - mse: 0.0013\n",
            "Epoch 15/25\n",
            "113/113 [==============================] - 1s 12ms/step - loss: 0.0012 - mse: 0.0012\n",
            "Epoch 16/25\n",
            "113/113 [==============================] - 1s 12ms/step - loss: 0.0012 - mse: 0.0012\n",
            "Epoch 17/25\n",
            "113/113 [==============================] - 1s 11ms/step - loss: 0.0011 - mse: 0.0011\n",
            "Epoch 18/25\n",
            "113/113 [==============================] - 1s 12ms/step - loss: 0.0011 - mse: 0.0011\n",
            "Epoch 19/25\n",
            "113/113 [==============================] - 2s 14ms/step - loss: 0.0011 - mse: 0.0011\n",
            "Epoch 20/25\n",
            "113/113 [==============================] - 2s 15ms/step - loss: 0.0011 - mse: 0.0011\n",
            "Epoch 21/25\n",
            "113/113 [==============================] - 1s 13ms/step - loss: 9.3961e-04 - mse: 9.3961e-04\n",
            "Epoch 22/25\n",
            "113/113 [==============================] - 1s 9ms/step - loss: 9.3726e-04 - mse: 9.3726e-04\n",
            "Epoch 23/25\n",
            "113/113 [==============================] - 1s 7ms/step - loss: 9.6297e-04 - mse: 9.6297e-04\n",
            "Epoch 24/25\n",
            "113/113 [==============================] - 1s 7ms/step - loss: 8.8200e-04 - mse: 8.8200e-04\n",
            "Epoch 25/25\n",
            "113/113 [==============================] - 1s 7ms/step - loss: 8.7791e-04 - mse: 8.7791e-04\n"
          ]
        },
        {
          "output_type": "execute_result",
          "data": {
            "text/plain": [
              "<keras.callbacks.History at 0x7faf3805d340>"
            ]
          },
          "metadata": {},
          "execution_count": 21
        }
      ]
    },
    {
      "cell_type": "code",
      "source": [
        "dataset_total = expedia.loc[:,\"High\"]\n",
        "inputs = dataset_total[len(dataset_total) - len(test_set) - n_steps :].values\n",
        "print(type(input))"
      ],
      "metadata": {
        "colab": {
          "base_uri": "https://localhost:8080/"
        },
        "id": "ZEcY6Oq9MEcv",
        "outputId": "be592412-beca-47ce-ab42-54f965b25554"
      },
      "execution_count": 22,
      "outputs": [
        {
          "output_type": "stream",
          "name": "stdout",
          "text": [
            "<class 'method'>\n"
          ]
        }
      ]
    },
    {
      "cell_type": "code",
      "source": [
        "inputs[:5]"
      ],
      "metadata": {
        "colab": {
          "base_uri": "https://localhost:8080/"
        },
        "id": "BceBoL0cMN_V",
        "outputId": "d0223189-f0e5-48c0-cbf7-a86836901885"
      },
      "execution_count": 23,
      "outputs": [
        {
          "output_type": "execute_result",
          "data": {
            "text/plain": [
              "array([76.31999969, 76.05999756, 75.79000092, 75.58000183, 75.55000305])"
            ]
          },
          "metadata": {},
          "execution_count": 23
        }
      ]
    },
    {
      "cell_type": "code",
      "source": [
        "inputs = inputs.reshape(-1, 1)\n",
        "\n",
        "#scaling\n",
        "inputs = sc.transform(inputs)\n",
        "\n",
        "# Split into samples\n",
        "X_test, y_test = split_sequence(inputs, n_steps)\n",
        "\n",
        "# reshape\n",
        "X_test = X_test.reshape(X_test.shape[0], X_test.shape[1], features)\n",
        "\n",
        "#prediction\n",
        "predicted_stock_price = model_lstm.predict(X_test)\n",
        "\n",
        "#inverse transform the values\n",
        "predicted_stock_price = sc.inverse_transform(predicted_stock_price)"
      ],
      "metadata": {
        "colab": {
          "base_uri": "https://localhost:8080/"
        },
        "id": "nnRw9Ev5MbO1",
        "outputId": "6c367f13-25c7-48cc-cb9a-cac657022a87"
      },
      "execution_count": 24,
      "outputs": [
        {
          "output_type": "stream",
          "name": "stdout",
          "text": [
            "24/24 [==============================] - 1s 3ms/step\n"
          ]
        }
      ]
    },
    {
      "cell_type": "code",
      "source": [
        "def plot_predictions(test, predicted):\n",
        "    plt.plot(test, color=\"gray\", label=\"Real\")\n",
        "    plt.plot(predicted, color=\"red\", label=\"Predicted\")\n",
        "    plt.title(\"expedia Price Prediction\")\n",
        "    plt.xlabel(\"Time\")\n",
        "    plt.ylabel(\"expedia Stock Price\")\n",
        "    plt.legend()\n",
        "    plt.show()\n",
        "\n",
        "\n",
        "def return_rmse(test, predicted):\n",
        "    rmse = np.sqrt(mean_squared_error(test, predicted))\n",
        "    print(\"The root mean squared error is {:.2f}.\".format(rmse))"
      ],
      "metadata": {
        "id": "mgj391sSMhgq"
      },
      "execution_count": 25,
      "outputs": []
    },
    {
      "cell_type": "code",
      "source": [
        "plot_predictions(test_set,predicted_stock_price)"
      ],
      "metadata": {
        "colab": {
          "base_uri": "https://localhost:8080/",
          "height": 295
        },
        "id": "o_RfEgk2NFlT",
        "outputId": "49fc1a59-ce2c-4eba-d909-f125418de4c2"
      },
      "execution_count": 26,
      "outputs": [
        {
          "output_type": "display_data",
          "data": {
            "text/plain": [
              "<Figure size 432x288 with 1 Axes>"
            ],
            "image/png": "[encoded data removed]"
          },
          "metadata": {
            "needs_background": "light"
          }
        }
      ]
    },
    {
      "cell_type": "code",
      "source": [
        "return_rmse(test_set,predicted_stock_price)"
      ],
      "metadata": {
        "colab": {
          "base_uri": "https://localhost:8080/"
        },
        "id": "MhwZdnmqNIUZ",
        "outputId": "8dfa665f-7040-4736-c281-86c5bd291121"
      },
      "execution_count": 27,
      "outputs": [
        {
          "output_type": "stream",
          "name": "stdout",
          "text": [
            "The root mean squared error is 4.39.\n"
          ]
        }
      ]
    },
    {
      "cell_type": "markdown",
      "source": [
        "##2. Bidirectional LSTM Model"
      ],
      "metadata": {
        "id": "X6qht-Y6-LyZ"
      }
    },
    {
      "cell_type": "code",
      "source": [
        "# Create bidirectional LSTM model\n",
        "model_bid = Sequential()\n",
        "model_bid.add(Bidirectional(LSTM(units=50, return_sequences=True, input_shape=(X_train.shape[1], 1), activation='tanh')))\n",
        "model_bid.add(Bidirectional(LSTM(units=50, activation='tanh')))\n",
        "model_bid.add(Dropout(0.2))\n",
        "model_bid.add(Dense(units=1, activation='linear'))\n",
        "\n",
        "# Compile bidirectional LSTM model\n",
        "model_bid.compile(optimizer=\"adam\", loss=\"mse\", metrics=['mse'])"
      ],
      "metadata": {
        "id": "cgDoprc7NsPL"
      },
      "execution_count": 28,
      "outputs": []
    },
    {
      "cell_type": "code",
      "source": [
        "model_bid.fit(X_train, y_train, epochs=25, batch_size=32)"
      ],
      "metadata": {
        "colab": {
          "base_uri": "https://localhost:8080/"
        },
        "id": "kur1Zesp1jie",
        "outputId": "6732161e-9312-4d7a-ede3-48c770ee7db9"
      },
      "execution_count": 29,
      "outputs": [
        {
          "output_type": "stream",
          "name": "stdout",
          "text": [
            "Epoch 1/25\n",
            "113/113 [==============================] - 10s 11ms/step - loss: 0.0063 - mse: 0.0063\n",
            "Epoch 2/25\n",
            "113/113 [==============================] - 1s 11ms/step - loss: 0.0020 - mse: 0.0020\n",
            "Epoch 3/25\n",
            "113/113 [==============================] - 1s 11ms/step - loss: 0.0018 - mse: 0.0018\n",
            "Epoch 4/25\n",
            "113/113 [==============================] - 1s 11ms/step - loss: 0.0015 - mse: 0.0015\n",
            "Epoch 5/25\n",
            "113/113 [==============================] - 2s 14ms/step - loss: 0.0015 - mse: 0.0015\n",
            "Epoch 6/25\n",
            "113/113 [==============================] - 2s 19ms/step - loss: 0.0014 - mse: 0.0014\n",
            "Epoch 7/25\n",
            "113/113 [==============================] - 3s 23ms/step - loss: 0.0012 - mse: 0.0012\n",
            "Epoch 8/25\n",
            "113/113 [==============================] - 2s 19ms/step - loss: 0.0012 - mse: 0.0012\n",
            "Epoch 9/25\n",
            "113/113 [==============================] - 2s 19ms/step - loss: 0.0012 - mse: 0.0012\n",
            "Epoch 10/25\n",
            "113/113 [==============================] - 2s 19ms/step - loss: 0.0012 - mse: 0.0012\n",
            "Epoch 11/25\n",
            "113/113 [==============================] - 2s 20ms/step - loss: 9.6857e-04 - mse: 9.6857e-04\n",
            "Epoch 12/25\n",
            "113/113 [==============================] - 2s 16ms/step - loss: 9.7953e-04 - mse: 9.7953e-04\n",
            "Epoch 13/25\n",
            "113/113 [==============================] - 2s 15ms/step - loss: 8.6541e-04 - mse: 8.6541e-04\n",
            "Epoch 14/25\n",
            "113/113 [==============================] - 1s 11ms/step - loss: 8.8660e-04 - mse: 8.8660e-04\n",
            "Epoch 15/25\n",
            "113/113 [==============================] - 1s 11ms/step - loss: 9.3380e-04 - mse: 9.3380e-04\n",
            "Epoch 16/25\n",
            "113/113 [==============================] - 1s 11ms/step - loss: 9.5827e-04 - mse: 9.5827e-04\n",
            "Epoch 17/25\n",
            "113/113 [==============================] - 1s 11ms/step - loss: 8.1480e-04 - mse: 8.1480e-04\n",
            "Epoch 18/25\n",
            "113/113 [==============================] - 1s 11ms/step - loss: 8.9883e-04 - mse: 8.9883e-04\n",
            "Epoch 19/25\n",
            "113/113 [==============================] - 1s 11ms/step - loss: 8.7297e-04 - mse: 8.7297e-04\n",
            "Epoch 20/25\n",
            "113/113 [==============================] - 1s 11ms/step - loss: 7.8887e-04 - mse: 7.8887e-04\n",
            "Epoch 21/25\n",
            "113/113 [==============================] - 1s 11ms/step - loss: 7.9952e-04 - mse: 7.9952e-04\n",
            "Epoch 22/25\n",
            "113/113 [==============================] - 2s 15ms/step - loss: 9.1423e-04 - mse: 9.1423e-04\n",
            "Epoch 23/25\n",
            "113/113 [==============================] - 1s 12ms/step - loss: 7.7323e-04 - mse: 7.7323e-04\n",
            "Epoch 24/25\n",
            "113/113 [==============================] - 1s 11ms/step - loss: 6.9900e-04 - mse: 6.9900e-04\n",
            "Epoch 25/25\n",
            "113/113 [==============================] - 1s 11ms/step - loss: 8.0215e-04 - mse: 8.0215e-04\n"
          ]
        },
        {
          "output_type": "execute_result",
          "data": {
            "text/plain": [
              "<keras.callbacks.History at 0x7faf20091730>"
            ]
          },
          "metadata": {},
          "execution_count": 29
        }
      ]
    },
    {
      "cell_type": "code",
      "source": [
        "BID_predicted_stock_price = model_bid.predict(X_test)\n",
        "BID_predicted_stock_price = sc.inverse_transform(BID_predicted_stock_price)\n",
        "plot_predictions(test_set, BID_predicted_stock_price)"
      ],
      "metadata": {
        "colab": {
          "base_uri": "https://localhost:8080/",
          "height": 312
        },
        "id": "RWcDvoW41qRV",
        "outputId": "73abb010-c5ff-4a60-8f0c-76d43d03c01e"
      },
      "execution_count": 30,
      "outputs": [
        {
          "output_type": "stream",
          "name": "stdout",
          "text": [
            "24/24 [==============================] - 1s 4ms/step\n"
          ]
        },
        {
          "output_type": "display_data",
          "data": {
            "text/plain": [
              "<Figure size 432x288 with 1 Axes>"
            ],
            "image/png": "[encoded data removed]"
          },
          "metadata": {
            "needs_background": "light"
          }
        }
      ]
    },
    {
      "cell_type": "code",
      "source": [
        "return_rmse(test_set,BID_predicted_stock_price)"
      ],
      "metadata": {
        "colab": {
          "base_uri": "https://localhost:8080/"
        },
        "id": "kLrKQCq11tzU",
        "outputId": "0fb0a494-1101-43a1-9235-5dfc9ff5ae25"
      },
      "execution_count": 31,
      "outputs": [
        {
          "output_type": "stream",
          "name": "stdout",
          "text": [
            "The root mean squared error is 5.98.\n"
          ]
        }
      ]
    },
    {
      "cell_type": "markdown",
      "source": [
        "##3. GRU Model"
      ],
      "metadata": {
        "id": "I0qKVOKl-YVX"
      }
    },
    {
      "cell_type": "code",
      "source": [
        "# Create GRU model\n",
        "model_gru = Sequential()\n",
        "model_gru.add(GRU(units=50, return_sequences=True, input_shape=(X_train.shape[1], 1), activation='tanh'))\n",
        "model_gru.add(GRU(units=50, activation='tanh'))\n",
        "model_gru.add(Dropout(0.2))\n",
        "model_gru.add(Dense(units=1, activation='linear'))\n",
        "\n",
        "# Compile GRU model\n",
        "model_gru.compile(optimizer=\"adam\", loss=\"mse\", metrics=['mse'])\n",
        "\n",
        "model_gru.summary()"
      ],
      "metadata": {
        "id": "byEStsgPNW7u",
        "colab": {
          "base_uri": "https://localhost:8080/"
        },
        "outputId": "161e0b20-53a0-4d44-f6fd-e047b75313ab"
      },
      "execution_count": 32,
      "outputs": [
        {
          "output_type": "stream",
          "name": "stdout",
          "text": [
            "Model: \"sequential_2\"\n",
            "_________________________________________________________________\n",
            " Layer (type)                Output Shape              Param #   \n",
            "=================================================================\n",
            " gru (GRU)                   (None, 30, 50)            7950      \n",
            "                                                                 \n",
            " gru_1 (GRU)                 (None, 50)                15300     \n",
            "                                                                 \n",
            " dropout_2 (Dropout)         (None, 50)                0         \n",
            "                                                                 \n",
            " dense_2 (Dense)             (None, 1)                 51        \n",
            "                                                                 \n",
            "=================================================================\n",
            "Total params: 23,301\n",
            "Trainable params: 23,301\n",
            "Non-trainable params: 0\n",
            "_________________________________________________________________\n"
          ]
        }
      ]
    },
    {
      "cell_type": "code",
      "source": [
        "model_gru.fit(X_train, y_train, epochs=25, batch_size=32)"
      ],
      "metadata": {
        "id": "VQRtidGpNe9K",
        "colab": {
          "base_uri": "https://localhost:8080/"
        },
        "outputId": "386f9fbc-3c57-44b8-b985-760f1ca79d22"
      },
      "execution_count": 33,
      "outputs": [
        {
          "output_type": "stream",
          "name": "stdout",
          "text": [
            "Epoch 1/25\n",
            "113/113 [==============================] - 4s 6ms/step - loss: 0.0109 - mse: 0.0109\n",
            "Epoch 2/25\n",
            "113/113 [==============================] - 1s 8ms/step - loss: 0.0020 - mse: 0.0020\n",
            "Epoch 3/25\n",
            "113/113 [==============================] - 1s 8ms/step - loss: 0.0018 - mse: 0.0018\n",
            "Epoch 4/25\n",
            "113/113 [==============================] - 1s 9ms/step - loss: 0.0015 - mse: 0.0015\n",
            "Epoch 5/25\n",
            "113/113 [==============================] - 1s 7ms/step - loss: 0.0015 - mse: 0.0015\n",
            "Epoch 6/25\n",
            "113/113 [==============================] - 1s 7ms/step - loss: 0.0014 - mse: 0.0014\n",
            "Epoch 7/25\n",
            "113/113 [==============================] - 1s 6ms/step - loss: 0.0013 - mse: 0.0013\n",
            "Epoch 8/25\n",
            "113/113 [==============================] - 1s 6ms/step - loss: 0.0012 - mse: 0.0012\n",
            "Epoch 9/25\n",
            "113/113 [==============================] - 1s 6ms/step - loss: 0.0013 - mse: 0.0013\n",
            "Epoch 10/25\n",
            "113/113 [==============================] - 1s 6ms/step - loss: 0.0012 - mse: 0.0012\n",
            "Epoch 11/25\n",
            "113/113 [==============================] - 1s 6ms/step - loss: 0.0012 - mse: 0.0012\n",
            "Epoch 12/25\n",
            "113/113 [==============================] - 1s 6ms/step - loss: 0.0010 - mse: 0.0010\n",
            "Epoch 13/25\n",
            "113/113 [==============================] - 1s 6ms/step - loss: 0.0011 - mse: 0.0011\n",
            "Epoch 14/25\n",
            "113/113 [==============================] - 1s 6ms/step - loss: 0.0010 - mse: 0.0010\n",
            "Epoch 15/25\n",
            "113/113 [==============================] - 1s 6ms/step - loss: 9.2423e-04 - mse: 9.2423e-04\n",
            "Epoch 16/25\n",
            "113/113 [==============================] - 1s 6ms/step - loss: 9.5988e-04 - mse: 9.5988e-04\n",
            "Epoch 17/25\n",
            "113/113 [==============================] - 1s 6ms/step - loss: 9.2852e-04 - mse: 9.2852e-04\n",
            "Epoch 18/25\n",
            "113/113 [==============================] - 1s 6ms/step - loss: 8.9396e-04 - mse: 8.9396e-04\n",
            "Epoch 19/25\n",
            "113/113 [==============================] - 1s 9ms/step - loss: 8.2924e-04 - mse: 8.2924e-04\n",
            "Epoch 20/25\n",
            "113/113 [==============================] - 1s 8ms/step - loss: 8.2514e-04 - mse: 8.2514e-04\n",
            "Epoch 21/25\n",
            "113/113 [==============================] - 1s 7ms/step - loss: 7.4924e-04 - mse: 7.4924e-04\n",
            "Epoch 22/25\n",
            "113/113 [==============================] - 1s 7ms/step - loss: 8.3360e-04 - mse: 8.3360e-04\n",
            "Epoch 23/25\n",
            "113/113 [==============================] - 1s 6ms/step - loss: 7.0939e-04 - mse: 7.0939e-04\n",
            "Epoch 24/25\n",
            "113/113 [==============================] - 1s 6ms/step - loss: 6.8646e-04 - mse: 6.8646e-04\n",
            "Epoch 25/25\n",
            "113/113 [==============================] - 1s 6ms/step - loss: 6.7208e-04 - mse: 6.7208e-04\n"
          ]
        },
        {
          "output_type": "execute_result",
          "data": {
            "text/plain": [
              "<keras.callbacks.History at 0x7faebdf9fa30>"
            ]
          },
          "metadata": {},
          "execution_count": 33
        }
      ]
    },
    {
      "cell_type": "code",
      "source": [
        "GRU_predicted_stock_price = model_gru.predict(X_test)\n",
        "GRU_predicted_stock_price = sc.inverse_transform(GRU_predicted_stock_price)\n",
        "plot_predictions(test_set, GRU_predicted_stock_price)"
      ],
      "metadata": {
        "id": "EjOKFmD5Njo7",
        "colab": {
          "base_uri": "https://localhost:8080/",
          "height": 312
        },
        "outputId": "7029b7bd-b537-4830-e164-08deff6f3596"
      },
      "execution_count": 34,
      "outputs": [
        {
          "output_type": "stream",
          "name": "stdout",
          "text": [
            "24/24 [==============================] - 1s 3ms/step\n"
          ]
        },
        {
          "output_type": "display_data",
          "data": {
            "text/plain": [
              "<Figure size 432x288 with 1 Axes>"
            ],
            "image/png": "[encoded data removed]"
          },
          "metadata": {
            "needs_background": "light"
          }
        }
      ]
    },
    {
      "cell_type": "code",
      "source": [
        "return_rmse(test_set,GRU_predicted_stock_price)"
      ],
      "metadata": {
        "colab": {
          "base_uri": "https://localhost:8080/"
        },
        "id": "fw1Ht_adNmcA",
        "outputId": "438eb07d-27a4-4fc0-c334-ee9404deb341"
      },
      "execution_count": 35,
      "outputs": [
        {
          "output_type": "stream",
          "name": "stdout",
          "text": [
            "The root mean squared error is 1.72.\n"
          ]
        }
      ]
    },
    {
      "cell_type": "markdown",
      "source": [
        "GRU is the best model for my data, as it gives the lowest rmse"
      ],
      "metadata": {
        "id": "3hpuloYxRQ7A"
      }
    }
  ]
}